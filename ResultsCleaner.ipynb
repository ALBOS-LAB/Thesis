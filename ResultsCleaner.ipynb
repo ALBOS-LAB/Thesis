{
 "cells": [
  {
   "cell_type": "code",
   "execution_count": 3,
   "metadata": {},
   "outputs": [
    {
     "name": "stdout",
     "output_type": "stream",
     "text": [
      "Kept non-empty folder: C:\\Users\\Nik\\Documents\\GitHub\\Thesis\\Results\\Results_Binary\\Final Results\\2024-08-30_09-03-30\\Plot\\Weekly_Plot\n",
      "Kept non-empty folder: C:\\Users\\Nik\\Documents\\GitHub\\Thesis\\Results\\Results_Binary\\Final Results\\2024-08-30_09-03-30\\Plot\\Yearly_Plot\n",
      "Kept non-empty folder: C:\\Users\\Nik\\Documents\\GitHub\\Thesis\\Results\\Results_Binary\\Final Results\\2024-08-30_09-03-30\\Plot\n",
      "Kept non-empty folder: C:\\Users\\Nik\\Documents\\GitHub\\Thesis\\Results\\Results_Binary\\Final Results\\2024-09-01_18-27-51\\Plot\\Weekly_Plot\n",
      "Kept non-empty folder: C:\\Users\\Nik\\Documents\\GitHub\\Thesis\\Results\\Results_Binary\\Final Results\\2024-09-01_18-27-51\\Plot\\Yearly_Plot\n",
      "Kept non-empty folder: C:\\Users\\Nik\\Documents\\GitHub\\Thesis\\Results\\Results_Binary\\Final Results\\2024-09-01_18-27-51\\Plot\n",
      "Kept non-empty folder: C:\\Users\\Nik\\Documents\\GitHub\\Thesis\\Results\\Results_Binary\\Final Results\\2024-09-02_09-41-29\\Plot\\Weekly_Plot\n",
      "Kept non-empty folder: C:\\Users\\Nik\\Documents\\GitHub\\Thesis\\Results\\Results_Binary\\Final Results\\2024-09-02_09-41-29\\Plot\\Yearly_Plot\n",
      "Kept non-empty folder: C:\\Users\\Nik\\Documents\\GitHub\\Thesis\\Results\\Results_Binary\\Final Results\\2024-09-02_09-41-29\\Plot\n",
      "Kept non-empty folder: C:\\Users\\Nik\\Documents\\GitHub\\Thesis\\Results\\Results_Binary\\Final Results\\2024-09-03_23-57-17\\Plot\\Weekly_Plot\n",
      "Kept non-empty folder: C:\\Users\\Nik\\Documents\\GitHub\\Thesis\\Results\\Results_Binary\\Final Results\\2024-09-03_23-57-17\\Plot\n",
      "Kept non-empty folder: C:\\Users\\Nik\\Documents\\GitHub\\Thesis\\Results\\Results_Binary\\Final Results\\2024-07-18_01-01-02\n",
      "Kept non-empty folder: C:\\Users\\Nik\\Documents\\GitHub\\Thesis\\Results\\Results_Binary\\Final Results\\2024-07-18_09-34-21\n",
      "Kept non-empty folder: C:\\Users\\Nik\\Documents\\GitHub\\Thesis\\Results\\Results_Binary\\Final Results\\2024-07-18_11-50-57\n",
      "Kept non-empty folder: C:\\Users\\Nik\\Documents\\GitHub\\Thesis\\Results\\Results_Binary\\Final Results\\2024-07-18_13-42-58\n",
      "Deleted empty folder: C:\\Users\\Nik\\Documents\\GitHub\\Thesis\\Results\\Results_Binary\\Final Results\\2024-07-18_13-48-32\n",
      "Kept non-empty folder: C:\\Users\\Nik\\Documents\\GitHub\\Thesis\\Results\\Results_Binary\\Final Results\\2024-07-18_13-49-15\n",
      "Kept non-empty folder: C:\\Users\\Nik\\Documents\\GitHub\\Thesis\\Results\\Results_Binary\\Final Results\\2024-07-18_13-50-09\n",
      "Kept non-empty folder: C:\\Users\\Nik\\Documents\\GitHub\\Thesis\\Results\\Results_Binary\\Final Results\\2024-08-29_18-35-03\n",
      "Kept non-empty folder: C:\\Users\\Nik\\Documents\\GitHub\\Thesis\\Results\\Results_Binary\\Final Results\\2024-08-30_01-24-23\n",
      "Deleted empty folder: C:\\Users\\Nik\\Documents\\GitHub\\Thesis\\Results\\Results_Binary\\Final Results\\2024-08-30_06-28-57\n",
      "Kept non-empty folder: C:\\Users\\Nik\\Documents\\GitHub\\Thesis\\Results\\Results_Binary\\Final Results\\2024-08-30_07-11-14\n",
      "Deleted empty folder: C:\\Users\\Nik\\Documents\\GitHub\\Thesis\\Results\\Results_Binary\\Final Results\\2024-08-30_08-29-35\n",
      "Kept non-empty folder: C:\\Users\\Nik\\Documents\\GitHub\\Thesis\\Results\\Results_Binary\\Final Results\\2024-08-30_08-46-23\n",
      "Deleted empty folder: C:\\Users\\Nik\\Documents\\GitHub\\Thesis\\Results\\Results_Binary\\Final Results\\2024-08-30_08-52-46\n",
      "Kept non-empty folder: C:\\Users\\Nik\\Documents\\GitHub\\Thesis\\Results\\Results_Binary\\Final Results\\2024-08-30_08-57-37\n",
      "Kept non-empty folder: C:\\Users\\Nik\\Documents\\GitHub\\Thesis\\Results\\Results_Binary\\Final Results\\2024-08-30_09-03-30\n",
      "Kept non-empty folder: C:\\Users\\Nik\\Documents\\GitHub\\Thesis\\Results\\Results_Binary\\Final Results\\2024-09-01_18-27-51\n",
      "Kept non-empty folder: C:\\Users\\Nik\\Documents\\GitHub\\Thesis\\Results\\Results_Binary\\Final Results\\2024-09-02_09-41-29\n",
      "Deleted empty folder: C:\\Users\\Nik\\Documents\\GitHub\\Thesis\\Results\\Results_Binary\\Final Results\\2024-09-02_09-48-20\n",
      "Deleted empty folder: C:\\Users\\Nik\\Documents\\GitHub\\Thesis\\Results\\Results_Binary\\Final Results\\2024-09-03_00-07-43\n",
      "Deleted empty folder: C:\\Users\\Nik\\Documents\\GitHub\\Thesis\\Results\\Results_Binary\\Final Results\\2024-09-03_09-28-26\n",
      "Deleted empty folder: C:\\Users\\Nik\\Documents\\GitHub\\Thesis\\Results\\Results_Binary\\Final Results\\2024-09-03_09-59-57\n",
      "Deleted empty folder: C:\\Users\\Nik\\Documents\\GitHub\\Thesis\\Results\\Results_Binary\\Final Results\\2024-09-03_11-36-54\n",
      "Kept non-empty folder: C:\\Users\\Nik\\Documents\\GitHub\\Thesis\\Results\\Results_Binary\\Final Results\\2024-09-03_23-57-17\n"
     ]
    }
   ],
   "source": [
    "import os\n",
    "\n",
    "def delete_empty_folders(folder_path):\n",
    "    \"\"\"\n",
    "    Recursively checks for empty folders within the given folder path and deletes them.\n",
    "\n",
    "    Parameters:\n",
    "    folder_path (str): The path to the main folder to check.\n",
    "\n",
    "    Returns:\n",
    "    None\n",
    "    \"\"\"\n",
    "    # Walk through the directory tree from the bottom up\n",
    "    for dirpath, dirnames, filenames in os.walk(folder_path, topdown=False):\n",
    "        # Check each directory inside the current path\n",
    "        for dirname in dirnames:\n",
    "            dir_to_check = os.path.join(dirpath, dirname)\n",
    "            # Check if the directory is empty\n",
    "            if not os.listdir(dir_to_check):\n",
    "                # If empty, delete the directory\n",
    "                os.rmdir(dir_to_check)\n",
    "                print(f\"Deleted empty folder: {dir_to_check}\")\n",
    "            else:\n",
    "                print(f\"Kept non-empty folder: {dir_to_check}\")\n",
    "\n",
    "# Example usage\n",
    "folder_directory = r'C:\\Users\\Nik\\Documents\\GitHub\\Thesis\\Results\\Results_Binary\\Final Results'\n",
    "delete_empty_folders(folder_directory)\n"
   ]
  }
 ],
 "metadata": {
  "kernelspec": {
   "display_name": "Test",
   "language": "python",
   "name": "python3"
  },
  "language_info": {
   "codemirror_mode": {
    "name": "ipython",
    "version": 3
   },
   "file_extension": ".py",
   "mimetype": "text/x-python",
   "name": "python",
   "nbconvert_exporter": "python",
   "pygments_lexer": "ipython3",
   "version": "3.8.12"
  }
 },
 "nbformat": 4,
 "nbformat_minor": 2
}
