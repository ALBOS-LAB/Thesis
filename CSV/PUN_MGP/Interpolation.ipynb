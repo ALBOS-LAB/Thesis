{
 "cells": [
  {
   "cell_type": "markdown",
   "metadata": {},
   "source": [
    "backup of the interpolation code for the missing timestep in the pun and mgp prices"
   ]
  },
  {
   "cell_type": "code",
   "execution_count": null,
   "metadata": {},
   "outputs": [],
   "source": [
    "import pandas as pd\n",
    "\n",
    "# Assume 'yearlist' is the full list of timestamps (e.g., from the production data index)\n",
    "# And 'results_df' is the DataFrame you want to check for missing rows\n",
    "\n",
    "# Find the missing timestamps by comparing the two sets\n",
    "missing_timestamps = set(yearlist) - set(results_df.index)\n",
    "\n",
    "# If there are missing timestamps, display them\n",
    "if missing_timestamps:\n",
    "    print(\"Missing timestamps:\")\n",
    "    for timestamp in sorted(missing_timestamps):\n",
    "        print(timestamp)\n",
    "else:\n",
    "    print(\"No missing timestamps found.\")\n"
   ]
  },
  {
   "cell_type": "code",
   "execution_count": null,
   "metadata": {},
   "outputs": [],
   "source": [
    "dataframes = {\n",
    "    \"Residential_user_production_df\": Residential_user_production_df,\n",
    "    \"Industrial_user_production_df\": Industrial_user_production_df,\n",
    "    \"Commercial_user_production_df\": Commercial_user_production_df,\n",
    "    \"DF_Consumption\": DF_Consumption,\n",
    "    \"PUN_df\": PUN_df,\n",
    "    \"MGP_df\": MGP_df\n",
    "}\n",
    "\n",
    "for name, df in dataframes.items():\n",
    "    if '2019-03-31 23:00:00' in df.index:\n",
    "        print(f\"{name} contains the missing timestamp.\")\n",
    "    else:\n",
    "        print(f\"{name} does NOT contain the missing timestamp.\")\n"
   ]
  },
  {
   "cell_type": "code",
   "execution_count": 12,
   "metadata": {},
   "outputs": [
    {
     "name": "stdout",
     "output_type": "stream",
     "text": [
      "Files saved successfully\n"
     ]
    }
   ],
   "source": [
    "import os\n",
    "import pandas as pd\n",
    "\n",
    "# Define the file paths\n",
    "PUN_MGP_path = r'C:\\Users\\Nik\\Documents\\GitHub\\Thesis\\CSV\\PUN_MGP'\n",
    "\n",
    "# Load the PUN.csv (hourly energy price in Eur/Wh) and MGP.csv (consumption price in Eur/Wh)\n",
    "PUN_df = pd.read_csv(os.path.join(PUN_MGP_path,'20230101_20231231_PUN.xlsm - MGP-PUNPUN.csv'), sep=\",\", parse_dates=[0], index_col=0)\n",
    "MGP_df = pd.read_csv(os.path.join(PUN_MGP_path,'20230101_20231231_MGP_PrezziZonali_SUD.xlsm - MGP-PrezziZonali-SUD.csv'), sep=\",\", parse_dates=[0], index_col=0)\n",
    "\n",
    "# Identify and drop duplicates\n",
    "PUN_df = PUN_df[~PUN_df.index.duplicated(keep='first')]\n",
    "MGP_df = MGP_df[~MGP_df.index.duplicated(keep='first')]\n",
    "\n",
    "# Convert the column directly inside the DataFrame\n",
    "PUN_df[\"€/MWh\"] = PUN_df[\"€/MWh\"].astype(str).str.replace(',', '.').astype(float)\n",
    "MGP_df[\"€/MWh\"] = MGP_df[\"€/MWh\"].astype(str).str.replace(',', '.').astype(float)\n",
    "\n",
    "# Create the new column \"SUD [Eur/Wh]\" with €/MWh divided by 10^6 and rounded to 8 decimal places\n",
    "PUN_df[\"SUD [Eur/Wh]\"] = (PUN_df[\"€/MWh\"] / 10**6).round(8)\n",
    "MGP_df[\"SUD [Eur/Wh]\"] = (MGP_df[\"€/MWh\"] / 10**6).round(8)\n",
    "\n",
    "# Save the modified data permanently\n",
    "PUN_df.to_csv(os.path.join(PUN_MGP_path, \"PUN_Cleaned.csv\"), sep=\",\", decimal=\".\")\n",
    "MGP_df.to_csv(os.path.join(PUN_MGP_path, \"MGP_Cleaned.csv\"), sep=\",\", decimal=\".\")\n",
    "\n",
    "print(\"Files saved successfully\")\n"
   ]
  },
  {
   "cell_type": "code",
   "execution_count": null,
   "metadata": {},
   "outputs": [],
   "source": [
    "\n",
    "# Define the yearlist based on the number of hours\n",
    "yearlist = Residential_user_production_df.index\n",
    "\n",
    "# Reindex the PUN and MGP DataFrames to match the yearlist and interpolate missing values\n",
    "PUN_df_interpolated = PUN_df.reindex(yearlist).interpolate(method='time')\n",
    "MGP_df_interpolated = MGP_df.reindex(yearlist).interpolate(method='time')\n",
    "\n",
    "# Check if the missing timestamp has been filled\n",
    "if '2019-03-31 23:00:00' in PUN_df_interpolated.index and '2019-03-31 23:00:00' in MGP_df_interpolated.index:\n",
    "    print(\"The missing timestamp has been filled with interpolated values.\")\n",
    "else:\n",
    "    print(\"The missing timestamp is still absent.\")\n",
    "\n",
    "# Use the interpolated DataFrames for further processing\n",
    "pun_prices_cleaned = PUN_df_interpolated[\"€/MWh\"]\n",
    "mgp_prices_cleaned = MGP_df_interpolated[\"€/MWh\"]\n",
    "\n",
    "# Proceed with the rest of your code using pun_prices_cleaned and mgp_prices_cleaned\n",
    "\n",
    "# Assuming PUN_df_interpolated and MGP_df_interpolated contain the interpolated values\n",
    "\n",
    "# Save the interpolated DataFrames back to their respective CSV files\n",
    "PUN_MGP_path = r'C:\\Users\\Nik\\Documents\\GitHub\\Thesis\\CSV\\PUN_MGP'\n",
    "\n",
    "pun_interpolated_file_path = os.path.join(PUN_MGP_path, 'PUN_SUD_interpolated.csv')\n",
    "mgp_interpolated_file_path = os.path.join(PUN_MGP_path, 'MGP_PrezziZonali_CSUD_interpolated.csv')\n",
    "\n",
    "# Save the interpolated data\n",
    "PUN_df_interpolated.to_csv(pun_interpolated_file_path)\n",
    "MGP_df_interpolated.to_csv(mgp_interpolated_file_path)\n",
    "\n",
    "print(f'Interpolated PUN data saved to {pun_interpolated_file_path}')\n",
    "print(f'Interpolated MGP data saved to {mgp_interpolated_file_pat"
   ]
  }
 ],
 "metadata": {
  "kernelspec": {
   "display_name": "Test",
   "language": "python",
   "name": "python3"
  },
  "language_info": {
   "codemirror_mode": {
    "name": "ipython",
    "version": 3
   },
   "file_extension": ".py",
   "mimetype": "text/x-python",
   "name": "python",
   "nbconvert_exporter": "python",
   "pygments_lexer": "ipython3",
   "version": "3.8.12"
  }
 },
 "nbformat": 4,
 "nbformat_minor": 2
}
