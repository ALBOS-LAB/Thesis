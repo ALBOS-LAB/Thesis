{
 "cells": [
  {
   "cell_type": "code",
   "execution_count": null,
   "metadata": {},
   "outputs": [],
   "source": [
    "import pandas as pd\n",
    "import os\n",
    "import pyomo.environ as pyo \n",
    "import numpy  as np\n",
    "import matplotlib.pyplot as plt\n",
    "Data_path = \"C:/Users/Nik/Desktop/Tesi/PythonCode/CSV\"\n",
    "\n",
    "DF_name = \"Thesis_ProductionandConsumption.csv\"\n",
    "DF_path = os.path.join(Data_path, Res_Prod)\n",
    "DF = pd.read_csv(DF_path,sep=\",\",on_bad_lines='skip', index_col=0, header=0,parse_dates=[0])\n",
    "DF"
   ]
  }
 ],
 "metadata": {
  "language_info": {
   "name": "python"
  }
 },
 "nbformat": 4,
 "nbformat_minor": 2
}
